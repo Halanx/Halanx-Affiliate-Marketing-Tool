{
 "cells": [
  {
   "cell_type": "code",
   "execution_count": 1,
   "metadata": {},
   "outputs": [],
   "source": [
    "import requests\n",
    "import string\n",
    "from tqdm import tqdm_notebook as tqdm\n",
    "from itertools import permutations\n",
    "from io import BytesIO\n",
    "from PIL import Image, ImageDraw, ImageFont"
   ]
  },
  {
   "cell_type": "code",
   "execution_count": 2,
   "metadata": {},
   "outputs": [],
   "source": [
    "api_endpoint = \"https://hlnx.me/api/\"\n",
    "qrcode_endpoint = \"https://hlnx.me/{}/qrcode.png\""
   ]
  },
  {
   "cell_type": "code",
   "execution_count": 3,
   "metadata": {},
   "outputs": [],
   "source": [
    "short_codes = list(permutations(list(string.ascii_lowercase), 3))[:100]"
   ]
  },
  {
   "cell_type": "code",
   "execution_count": 4,
   "metadata": {},
   "outputs": [
    {
     "data": {
      "application/vnd.jupyter.widget-view+json": {
       "model_id": "3eaa60e652204d10a7f81bc1984198f5",
       "version_major": 2,
       "version_minor": 0
      },
      "text/plain": [
       "HBox(children=(IntProgress(value=0), HTML(value='')))"
      ]
     },
     "metadata": {},
     "output_type": "display_data"
    },
    {
     "name": "stdout",
     "output_type": "stream",
     "text": [
      "\n"
     ]
    }
   ],
   "source": [
    "for short_code in tqdm(short_codes):\n",
    "    r = requests.post(api_endpoint, data={'url': 'https://www.halanx.com',\n",
    "                                         'short': str(''.join(short_code))})"
   ]
  },
  {
   "cell_type": "code",
   "execution_count": 5,
   "metadata": {},
   "outputs": [],
   "source": [
    "background = Image.open(\"static_dev/img/QRCODE.png\")\n",
    "font = ImageFont.truetype(font=\"static_dev/main/fonts/OpenSans-Semibold.ttf\", size=30)\n",
    "bw, bh = background.size\n",
    "\n",
    "def generate_qr_template(short_code):\n",
    "    background = Image.open(\"static_dev/img/QRCODE.png\")\n",
    "    draw = ImageDraw.Draw(background)\n",
    "    r = requests.get(qrcode_endpoint.format(short_code))\n",
    "    print(r.url)\n",
    "    qrcode = Image.open(BytesIO(r.content)).resize((420, 420), Image.ANTIALIAS)\n",
    "    qw, qh = qrcode.size\n",
    "    background.paste(qrcode, box=(bw//2 - qw//2, bh//2 - qh//2 + 370))\n",
    "    text = \"hlnx.me/{}\".format(short_code)\n",
    "    tw, th = font.getsize(text)\n",
    "    draw.text((bw//2 - tw//2, bh//2 + 725), text, font=font, fill='black')\n",
    "    background.convert('RGB').save(\"static_dev/img/qr-cards/{}.jpg\".format(short_code))"
   ]
  },
  {
   "cell_type": "code",
   "execution_count": 6,
   "metadata": {},
   "outputs": [
    {
     "name": "stdout",
     "output_type": "stream",
     "text": [
      "https://hlnx.me/abc/qrcode.png\n"
     ]
    }
   ],
   "source": [
    "generate_qr_template(\"abc\")"
   ]
  },
  {
   "cell_type": "code",
   "execution_count": 8,
   "metadata": {},
   "outputs": [
    {
     "data": {
      "application/vnd.jupyter.widget-view+json": {
       "model_id": "0dddf6a33e684baa9501b68758b687a4",
       "version_major": 2,
       "version_minor": 0
      },
      "text/plain": [
       "HBox(children=(IntProgress(value=0), HTML(value='')))"
      ]
     },
     "metadata": {},
     "output_type": "display_data"
    },
    {
     "name": "stdout",
     "output_type": "stream",
     "text": [
      "https://hlnx.me/abc/qrcode.png\n",
      "https://hlnx.me/abd/qrcode.png\n",
      "https://hlnx.me/abe/qrcode.png\n",
      "https://hlnx.me/abf/qrcode.png\n",
      "https://hlnx.me/abg/qrcode.png\n",
      "https://hlnx.me/abh/qrcode.png\n",
      "https://hlnx.me/abi/qrcode.png\n",
      "https://hlnx.me/abj/qrcode.png\n",
      "https://hlnx.me/abk/qrcode.png\n",
      "https://hlnx.me/abl/qrcode.png\n",
      "https://hlnx.me/abm/qrcode.png\n",
      "https://hlnx.me/abn/qrcode.png\n",
      "https://hlnx.me/abo/qrcode.png\n",
      "https://hlnx.me/abp/qrcode.png\n",
      "https://hlnx.me/abq/qrcode.png\n",
      "https://hlnx.me/abr/qrcode.png\n",
      "https://hlnx.me/abs/qrcode.png\n",
      "https://hlnx.me/abt/qrcode.png\n",
      "https://hlnx.me/abu/qrcode.png\n",
      "https://hlnx.me/abv/qrcode.png\n",
      "https://hlnx.me/abw/qrcode.png\n",
      "https://hlnx.me/abx/qrcode.png\n",
      "https://hlnx.me/aby/qrcode.png\n",
      "https://hlnx.me/abz/qrcode.png\n",
      "https://hlnx.me/acb/qrcode.png\n",
      "https://hlnx.me/acd/qrcode.png\n",
      "https://hlnx.me/ace/qrcode.png\n",
      "https://hlnx.me/acf/qrcode.png\n",
      "https://hlnx.me/acg/qrcode.png\n",
      "https://hlnx.me/ach/qrcode.png\n",
      "https://hlnx.me/aci/qrcode.png\n",
      "https://hlnx.me/acj/qrcode.png\n",
      "https://hlnx.me/ack/qrcode.png\n",
      "https://hlnx.me/acl/qrcode.png\n",
      "https://hlnx.me/acm/qrcode.png\n",
      "https://hlnx.me/acn/qrcode.png\n",
      "https://hlnx.me/aco/qrcode.png\n",
      "https://hlnx.me/acp/qrcode.png\n",
      "https://hlnx.me/acq/qrcode.png\n",
      "https://hlnx.me/acr/qrcode.png\n",
      "https://hlnx.me/acs/qrcode.png\n",
      "https://hlnx.me/act/qrcode.png\n",
      "https://hlnx.me/acu/qrcode.png\n",
      "https://hlnx.me/acv/qrcode.png\n",
      "https://hlnx.me/acw/qrcode.png\n",
      "https://hlnx.me/acx/qrcode.png\n",
      "https://hlnx.me/acy/qrcode.png\n",
      "https://hlnx.me/acz/qrcode.png\n",
      "https://hlnx.me/adb/qrcode.png\n",
      "https://hlnx.me/adc/qrcode.png\n",
      "https://hlnx.me/ade/qrcode.png\n",
      "https://hlnx.me/adf/qrcode.png\n",
      "https://hlnx.me/adg/qrcode.png\n",
      "https://hlnx.me/adh/qrcode.png\n",
      "https://hlnx.me/adi/qrcode.png\n",
      "https://hlnx.me/adj/qrcode.png\n",
      "https://hlnx.me/adk/qrcode.png\n",
      "https://hlnx.me/adl/qrcode.png\n",
      "https://hlnx.me/adm/qrcode.png\n",
      "https://hlnx.me/adn/qrcode.png\n",
      "https://hlnx.me/ado/qrcode.png\n",
      "https://hlnx.me/adp/qrcode.png\n",
      "https://hlnx.me/adq/qrcode.png\n",
      "https://hlnx.me/adr/qrcode.png\n",
      "https://hlnx.me/ads/qrcode.png\n",
      "https://hlnx.me/adt/qrcode.png\n",
      "https://hlnx.me/adu/qrcode.png\n",
      "https://hlnx.me/adv/qrcode.png\n",
      "https://hlnx.me/adw/qrcode.png\n",
      "https://hlnx.me/adx/qrcode.png\n",
      "https://hlnx.me/ady/qrcode.png\n",
      "https://hlnx.me/adz/qrcode.png\n",
      "https://hlnx.me/aeb/qrcode.png\n",
      "https://hlnx.me/aec/qrcode.png\n",
      "https://hlnx.me/aed/qrcode.png\n",
      "https://hlnx.me/aef/qrcode.png\n",
      "https://hlnx.me/aeg/qrcode.png\n",
      "https://hlnx.me/aeh/qrcode.png\n",
      "https://hlnx.me/aei/qrcode.png\n",
      "https://hlnx.me/aej/qrcode.png\n",
      "https://hlnx.me/aek/qrcode.png\n",
      "https://hlnx.me/ael/qrcode.png\n",
      "https://hlnx.me/aem/qrcode.png\n",
      "https://hlnx.me/aen/qrcode.png\n",
      "https://hlnx.me/aeo/qrcode.png\n",
      "https://hlnx.me/aep/qrcode.png\n",
      "https://hlnx.me/aeq/qrcode.png\n",
      "https://hlnx.me/aer/qrcode.png\n",
      "https://hlnx.me/aes/qrcode.png\n",
      "https://hlnx.me/aet/qrcode.png\n",
      "https://hlnx.me/aeu/qrcode.png\n",
      "https://hlnx.me/aev/qrcode.png\n",
      "https://hlnx.me/aew/qrcode.png\n",
      "https://hlnx.me/aex/qrcode.png\n",
      "https://hlnx.me/aey/qrcode.png\n",
      "https://hlnx.me/aez/qrcode.png\n",
      "https://hlnx.me/afb/qrcode.png\n",
      "https://hlnx.me/afc/qrcode.png\n",
      "https://hlnx.me/afd/qrcode.png\n",
      "https://hlnx.me/afe/qrcode.png\n",
      "\n"
     ]
    }
   ],
   "source": [
    "for short_code in tqdm(short_codes):\n",
    "    generate_qr_template(str(''.join(short_code)))"
   ]
  },
  {
   "cell_type": "code",
   "execution_count": null,
   "metadata": {},
   "outputs": [],
   "source": []
  },
  {
   "cell_type": "code",
   "execution_count": null,
   "metadata": {},
   "outputs": [],
   "source": []
  },
  {
   "cell_type": "code",
   "execution_count": null,
   "metadata": {},
   "outputs": [],
   "source": []
  },
  {
   "cell_type": "code",
   "execution_count": null,
   "metadata": {},
   "outputs": [],
   "source": []
  },
  {
   "cell_type": "code",
   "execution_count": null,
   "metadata": {},
   "outputs": [],
   "source": []
  },
  {
   "cell_type": "code",
   "execution_count": null,
   "metadata": {},
   "outputs": [],
   "source": []
  },
  {
   "cell_type": "code",
   "execution_count": null,
   "metadata": {},
   "outputs": [],
   "source": []
  },
  {
   "cell_type": "markdown",
   "metadata": {},
   "source": [
    "Let {x1, x2, x3, x4, ...} be the list of available tagged phrases.\n",
    "\n",
    "We have an auxiliary data structure tagged_phrase_position_mapping which maps phrase position indices with the list of tagged phrases which have atleast one phrase at given position index.\n",
    "\n",
    "tagged_phrase_position_mapping = {0: [x1, x3, ...], 1: [x1, x2, ...], 2: [x5, ...], ......}\n",
    "\n",
    "Input: List of tagged phrases {y1, y2, y3, ...} called input_tagged_phrases.\n",
    "Let n = length(input_tagged_phrases)\n",
    "\n",
    "- Generate input_tagged_phrase_position_mapping\n",
    "\n",
    "input_tagged_phrase_position_mapping = {}\n",
    "for i in n:\n",
    "    input_tagged_phrase_position_mapping[i] = tagged_phrase_position_mapping[i].intersection(input_tagged_phrases)\n",
    "    \n",
    "- Select candidates\n",
    "\n",
    "candidate_phrases = []\n",
    "used_tagged_phrases = []\n",
    "\n",
    "for i in n:\n",
    "    input_tagged_phrase_position_mapping[i].difference(used_tagged_phrases)\n",
    "    if input_tagged_phrase_position_mapping is empty:\n",
    "        tagged_phrase = random_choice(input_tagged_phrases.difference(used_tagged_phrases))\n",
    "    else:\n",
    "        tagged_phrase = random_choice(input_tagged_phrase_position_mapping[i])\n",
    "    candidate_phrases.append(random_choice(phrase_dict[tagged_phrase][i]))\n",
    "    used_tagged_phrases.append(tagged_phrase)"
   ]
  },
  {
   "cell_type": "markdown",
   "metadata": {},
   "source": [
    "t = total no. of tagged phrases\n",
    "O(n*(n+t)) = O(n*t) = O(t)"
   ]
  },
  {
   "cell_type": "markdown",
   "metadata": {},
   "source": [
    "input_tagged_phrase_position_mapping\n",
    "------------------------------------\n",
    "{\n",
    "    0: [\n",
    "        x, y\n",
    "    ],\n",
    "    1: [\n",
    "        x, y\n",
    "    ],\n",
    "    2: [\n",
    "        x, y, z\n",
    "    ]\n",
    "}"
   ]
  },
  {
   "cell_type": "markdown",
   "metadata": {},
   "source": [
    "Joining candidate phrases\n",
    "--------------------------------------\n",
    "\n",
    "start_words = set of start words of all phrases\n",
    "end_words = set of all end words of all phrases\n",
    "\n",
    "next_word_frequency_map = mapping of each end-word with the list of their n (say 5) most frequent next words mapped with thier corresponding frequencies.\n",
    "\n",
    "previous_word_frequency_map = mapping of each start-word with the list of their n (say 5) most frequent previous words mappped with thier corresponding frequencies.\n",
    "\n",
    "Input: two phrases (say a & b), which need to be joined\n",
    "\n",
    "Let end_a be the end word of a and start_b be the start word of b.\n",
    "\n",
    "Then,\n",
    "end_a_connectors = next_word_frequency_map[end_a]\n",
    "start_b_connectors = previous_word_frequency_map[start_b]\n",
    "\n",
    "# introduce connectors of one list if it does not belong to other.\n",
    "\n",
    "for connector in end_a_connectors:\n",
    "    if connector not in start_b_connectors:\n",
    "        start_b_connectors[connector] = 1\n",
    "\n",
    "for connector in start_b_connectors:\n",
    "    if connector not in end_a_connectors:\n",
    "        end_a_connectors[connector] = 1\n",
    "\n",
    "# find the harmonic mean of each connector in both lists and pick the connector with maxm harmonic mean as the output\n",
    "\n",
    "max_hmean = -inf\n",
    "best_connector = none\n",
    "\n",
    "for connector in end_a_connectors:\n",
    "    freq_a = end_a_connectors[connector]\n",
    "    freq_b = start_b_connectors[connector]\n",
    "    \n",
    "    hmean = (freq_a * freq_b) / (freq_a + freq_b)\n",
    "    \n",
    "    if hmean > max_hmean:\n",
    "        max_hmean = hmean\n",
    "        best_connector = connector\n",
    "        \n",
    "        \n",
    "Output is best_connector"
   ]
  }
 ],
 "metadata": {
  "kernelspec": {
   "display_name": "Python 3",
   "language": "python",
   "name": "python3"
  },
  "language_info": {
   "codemirror_mode": {
    "name": "ipython",
    "version": 3
   },
   "file_extension": ".py",
   "mimetype": "text/x-python",
   "name": "python",
   "nbconvert_exporter": "python",
   "pygments_lexer": "ipython3",
   "version": "3.6.7"
  }
 },
 "nbformat": 4,
 "nbformat_minor": 2
}
